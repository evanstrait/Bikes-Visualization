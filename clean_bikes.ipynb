{
 "cells": [
  {
   "cell_type": "code",
   "execution_count": 83,
   "metadata": {},
   "outputs": [],
   "source": [
    "import pandas as pd\n",
    "import numpy as np\n",
    "# import geopy\n",
    "# from geopy.distance import geodesic as GD\n",
    "# from geopy import Point\n",
    "import math\n",
    "import matplotlib.pyplot as plt\n",
    "import seaborn as sns\n",
    "import plotly.express as px"
   ]
  },
  {
   "cell_type": "code",
   "execution_count": 2,
   "metadata": {},
   "outputs": [],
   "source": [
    "bikes = pd.read_csv(r'../data/df_1_year.csv')"
   ]
  },
  {
   "cell_type": "code",
   "execution_count": 3,
   "metadata": {},
   "outputs": [
    {
     "data": {
      "text/html": [
       "<div>\n",
       "<style scoped>\n",
       "    .dataframe tbody tr th:only-of-type {\n",
       "        vertical-align: middle;\n",
       "    }\n",
       "\n",
       "    .dataframe tbody tr th {\n",
       "        vertical-align: top;\n",
       "    }\n",
       "\n",
       "    .dataframe thead th {\n",
       "        text-align: right;\n",
       "    }\n",
       "</style>\n",
       "<table border=\"1\" class=\"dataframe\">\n",
       "  <thead>\n",
       "    <tr style=\"text-align: right;\">\n",
       "      <th></th>\n",
       "      <th>Unnamed: 0</th>\n",
       "      <th>ride_id</th>\n",
       "      <th>rideable_type</th>\n",
       "      <th>started_at</th>\n",
       "      <th>ended_at</th>\n",
       "      <th>start_station_name</th>\n",
       "      <th>start_station_id</th>\n",
       "      <th>end_station_name</th>\n",
       "      <th>end_station_id</th>\n",
       "      <th>start_lat</th>\n",
       "      <th>start_lng</th>\n",
       "      <th>end_lat</th>\n",
       "      <th>end_lng</th>\n",
       "      <th>member_casual</th>\n",
       "      <th>Year</th>\n",
       "      <th>Month</th>\n",
       "      <th>ride_length</th>\n",
       "      <th>Year-Month</th>\n",
       "    </tr>\n",
       "  </thead>\n",
       "  <tbody>\n",
       "    <tr>\n",
       "      <th>0</th>\n",
       "      <td>0</td>\n",
       "      <td>99103BB87CC6C1BB</td>\n",
       "      <td>electric_bike</td>\n",
       "      <td>2021-08-10 17:15:49</td>\n",
       "      <td>2021-08-10 17:22:44</td>\n",
       "      <td>NaN</td>\n",
       "      <td>NaN</td>\n",
       "      <td>NaN</td>\n",
       "      <td>NaN</td>\n",
       "      <td>41.77</td>\n",
       "      <td>-87.68</td>\n",
       "      <td>41.77</td>\n",
       "      <td>-87.68</td>\n",
       "      <td>member</td>\n",
       "      <td>2021</td>\n",
       "      <td>8</td>\n",
       "      <td>6.916667</td>\n",
       "      <td>2021-08-01 00:00:00</td>\n",
       "    </tr>\n",
       "    <tr>\n",
       "      <th>1</th>\n",
       "      <td>1</td>\n",
       "      <td>EAFCCCFB0A3FC5A1</td>\n",
       "      <td>electric_bike</td>\n",
       "      <td>2021-08-10 17:23:14</td>\n",
       "      <td>2021-08-10 17:39:24</td>\n",
       "      <td>NaN</td>\n",
       "      <td>NaN</td>\n",
       "      <td>NaN</td>\n",
       "      <td>NaN</td>\n",
       "      <td>41.77</td>\n",
       "      <td>-87.68</td>\n",
       "      <td>41.77</td>\n",
       "      <td>-87.63</td>\n",
       "      <td>member</td>\n",
       "      <td>2021</td>\n",
       "      <td>8</td>\n",
       "      <td>16.166667</td>\n",
       "      <td>2021-08-01 00:00:00</td>\n",
       "    </tr>\n",
       "    <tr>\n",
       "      <th>2</th>\n",
       "      <td>2</td>\n",
       "      <td>9EF4F46C57AD234D</td>\n",
       "      <td>electric_bike</td>\n",
       "      <td>2021-08-21 02:34:23</td>\n",
       "      <td>2021-08-21 02:50:36</td>\n",
       "      <td>NaN</td>\n",
       "      <td>NaN</td>\n",
       "      <td>NaN</td>\n",
       "      <td>NaN</td>\n",
       "      <td>41.95</td>\n",
       "      <td>-87.65</td>\n",
       "      <td>41.97</td>\n",
       "      <td>-87.66</td>\n",
       "      <td>member</td>\n",
       "      <td>2021</td>\n",
       "      <td>8</td>\n",
       "      <td>16.216667</td>\n",
       "      <td>2021-08-01 00:00:00</td>\n",
       "    </tr>\n",
       "    <tr>\n",
       "      <th>3</th>\n",
       "      <td>5</td>\n",
       "      <td>612F12C94A964F3E</td>\n",
       "      <td>electric_bike</td>\n",
       "      <td>2021-08-19 12:41:12</td>\n",
       "      <td>2021-08-19 12:47:47</td>\n",
       "      <td>NaN</td>\n",
       "      <td>NaN</td>\n",
       "      <td>NaN</td>\n",
       "      <td>NaN</td>\n",
       "      <td>41.81</td>\n",
       "      <td>-87.61</td>\n",
       "      <td>41.80</td>\n",
       "      <td>-87.60</td>\n",
       "      <td>member</td>\n",
       "      <td>2021</td>\n",
       "      <td>8</td>\n",
       "      <td>6.583333</td>\n",
       "      <td>2021-08-01 00:00:00</td>\n",
       "    </tr>\n",
       "    <tr>\n",
       "      <th>4</th>\n",
       "      <td>6</td>\n",
       "      <td>C7435946FDFFA9B7</td>\n",
       "      <td>electric_bike</td>\n",
       "      <td>2021-08-19 12:21:50</td>\n",
       "      <td>2021-08-19 12:37:31</td>\n",
       "      <td>NaN</td>\n",
       "      <td>NaN</td>\n",
       "      <td>NaN</td>\n",
       "      <td>NaN</td>\n",
       "      <td>41.77</td>\n",
       "      <td>-87.62</td>\n",
       "      <td>41.81</td>\n",
       "      <td>-87.61</td>\n",
       "      <td>member</td>\n",
       "      <td>2021</td>\n",
       "      <td>8</td>\n",
       "      <td>15.683333</td>\n",
       "      <td>2021-08-01 00:00:00</td>\n",
       "    </tr>\n",
       "  </tbody>\n",
       "</table>\n",
       "</div>"
      ],
      "text/plain": [
       "   Unnamed: 0           ride_id  rideable_type           started_at  \\\n",
       "0           0  99103BB87CC6C1BB  electric_bike  2021-08-10 17:15:49   \n",
       "1           1  EAFCCCFB0A3FC5A1  electric_bike  2021-08-10 17:23:14   \n",
       "2           2  9EF4F46C57AD234D  electric_bike  2021-08-21 02:34:23   \n",
       "3           5  612F12C94A964F3E  electric_bike  2021-08-19 12:41:12   \n",
       "4           6  C7435946FDFFA9B7  electric_bike  2021-08-19 12:21:50   \n",
       "\n",
       "              ended_at start_station_name start_station_id end_station_name  \\\n",
       "0  2021-08-10 17:22:44                NaN              NaN              NaN   \n",
       "1  2021-08-10 17:39:24                NaN              NaN              NaN   \n",
       "2  2021-08-21 02:50:36                NaN              NaN              NaN   \n",
       "3  2021-08-19 12:47:47                NaN              NaN              NaN   \n",
       "4  2021-08-19 12:37:31                NaN              NaN              NaN   \n",
       "\n",
       "  end_station_id  start_lat  start_lng  end_lat  end_lng member_casual  Year  \\\n",
       "0            NaN      41.77     -87.68    41.77   -87.68        member  2021   \n",
       "1            NaN      41.77     -87.68    41.77   -87.63        member  2021   \n",
       "2            NaN      41.95     -87.65    41.97   -87.66        member  2021   \n",
       "3            NaN      41.81     -87.61    41.80   -87.60        member  2021   \n",
       "4            NaN      41.77     -87.62    41.81   -87.61        member  2021   \n",
       "\n",
       "   Month  ride_length           Year-Month  \n",
       "0      8     6.916667  2021-08-01 00:00:00  \n",
       "1      8    16.166667  2021-08-01 00:00:00  \n",
       "2      8    16.216667  2021-08-01 00:00:00  \n",
       "3      8     6.583333  2021-08-01 00:00:00  \n",
       "4      8    15.683333  2021-08-01 00:00:00  "
      ]
     },
     "execution_count": 3,
     "metadata": {},
     "output_type": "execute_result"
    }
   ],
   "source": [
    "bikes[bikes['start_station_name'].isna()].head()"
   ]
  },
  {
   "cell_type": "code",
   "execution_count": 4,
   "metadata": {},
   "outputs": [
    {
     "data": {
      "text/plain": [
       "classic_bike     1663393\n",
       "electric_bike    1483437\n",
       "docked_bike        89057\n",
       "Name: rideable_type, dtype: int64"
      ]
     },
     "execution_count": 4,
     "metadata": {},
     "output_type": "execute_result"
    }
   ],
   "source": [
    "bikes['rideable_type'].value_counts()"
   ]
  },
  {
   "cell_type": "code",
   "execution_count": 5,
   "metadata": {},
   "outputs": [
    {
     "data": {
      "text/html": [
       "<div>\n",
       "<style scoped>\n",
       "    .dataframe tbody tr th:only-of-type {\n",
       "        vertical-align: middle;\n",
       "    }\n",
       "\n",
       "    .dataframe tbody tr th {\n",
       "        vertical-align: top;\n",
       "    }\n",
       "\n",
       "    .dataframe thead th {\n",
       "        text-align: right;\n",
       "    }\n",
       "</style>\n",
       "<table border=\"1\" class=\"dataframe\">\n",
       "  <thead>\n",
       "    <tr style=\"text-align: right;\">\n",
       "      <th></th>\n",
       "      <th>Unnamed: 0</th>\n",
       "      <th>start_lat</th>\n",
       "      <th>start_lng</th>\n",
       "      <th>end_lat</th>\n",
       "      <th>end_lng</th>\n",
       "      <th>Year</th>\n",
       "      <th>Month</th>\n",
       "      <th>ride_length</th>\n",
       "    </tr>\n",
       "  </thead>\n",
       "  <tbody>\n",
       "    <tr>\n",
       "      <th>count</th>\n",
       "      <td>3.235887e+06</td>\n",
       "      <td>3.235887e+06</td>\n",
       "      <td>3.235887e+06</td>\n",
       "      <td>3.235669e+06</td>\n",
       "      <td>3.235669e+06</td>\n",
       "      <td>3.235887e+06</td>\n",
       "      <td>3.235887e+06</td>\n",
       "      <td>3.235887e+06</td>\n",
       "    </tr>\n",
       "    <tr>\n",
       "      <th>mean</th>\n",
       "      <td>3.463536e+05</td>\n",
       "      <td>4.190135e+01</td>\n",
       "      <td>-8.764817e+01</td>\n",
       "      <td>4.190154e+01</td>\n",
       "      <td>-8.764835e+01</td>\n",
       "      <td>2.021525e+03</td>\n",
       "      <td>7.268139e+00</td>\n",
       "      <td>1.260825e+01</td>\n",
       "    </tr>\n",
       "    <tr>\n",
       "      <th>std</th>\n",
       "      <td>2.264062e+05</td>\n",
       "      <td>4.682097e-02</td>\n",
       "      <td>3.033355e-02</td>\n",
       "      <td>4.695840e-02</td>\n",
       "      <td>3.047241e-02</td>\n",
       "      <td>4.993954e-01</td>\n",
       "      <td>2.465169e+00</td>\n",
       "      <td>8.815981e+00</td>\n",
       "    </tr>\n",
       "    <tr>\n",
       "      <th>min</th>\n",
       "      <td>0.000000e+00</td>\n",
       "      <td>4.164000e+01</td>\n",
       "      <td>-8.784000e+01</td>\n",
       "      <td>4.160000e+01</td>\n",
       "      <td>-8.787000e+01</td>\n",
       "      <td>2.021000e+03</td>\n",
       "      <td>1.000000e+00</td>\n",
       "      <td>1.666667e-02</td>\n",
       "    </tr>\n",
       "    <tr>\n",
       "      <th>25%</th>\n",
       "      <td>1.491620e+05</td>\n",
       "      <td>4.188169e+01</td>\n",
       "      <td>-8.766358e+01</td>\n",
       "      <td>4.188169e+01</td>\n",
       "      <td>-8.766371e+01</td>\n",
       "      <td>2.021000e+03</td>\n",
       "      <td>6.000000e+00</td>\n",
       "      <td>5.916667e+00</td>\n",
       "    </tr>\n",
       "    <tr>\n",
       "      <th>50%</th>\n",
       "      <td>3.189830e+05</td>\n",
       "      <td>4.190000e+01</td>\n",
       "      <td>-8.764414e+01</td>\n",
       "      <td>4.190022e+01</td>\n",
       "      <td>-8.764414e+01</td>\n",
       "      <td>2.022000e+03</td>\n",
       "      <td>7.000000e+00</td>\n",
       "      <td>1.023333e+01</td>\n",
       "    </tr>\n",
       "    <tr>\n",
       "      <th>75%</th>\n",
       "      <td>5.355470e+05</td>\n",
       "      <td>4.193000e+01</td>\n",
       "      <td>-8.762979e+01</td>\n",
       "      <td>4.193000e+01</td>\n",
       "      <td>-8.762979e+01</td>\n",
       "      <td>2.022000e+03</td>\n",
       "      <td>9.000000e+00</td>\n",
       "      <td>1.726667e+01</td>\n",
       "    </tr>\n",
       "    <tr>\n",
       "      <th>max</th>\n",
       "      <td>8.234870e+05</td>\n",
       "      <td>4.207000e+01</td>\n",
       "      <td>-8.752000e+01</td>\n",
       "      <td>4.211000e+01</td>\n",
       "      <td>-8.750000e+01</td>\n",
       "      <td>2.022000e+03</td>\n",
       "      <td>1.200000e+01</td>\n",
       "      <td>4.028333e+01</td>\n",
       "    </tr>\n",
       "  </tbody>\n",
       "</table>\n",
       "</div>"
      ],
      "text/plain": [
       "         Unnamed: 0     start_lat     start_lng       end_lat       end_lng  \\\n",
       "count  3.235887e+06  3.235887e+06  3.235887e+06  3.235669e+06  3.235669e+06   \n",
       "mean   3.463536e+05  4.190135e+01 -8.764817e+01  4.190154e+01 -8.764835e+01   \n",
       "std    2.264062e+05  4.682097e-02  3.033355e-02  4.695840e-02  3.047241e-02   \n",
       "min    0.000000e+00  4.164000e+01 -8.784000e+01  4.160000e+01 -8.787000e+01   \n",
       "25%    1.491620e+05  4.188169e+01 -8.766358e+01  4.188169e+01 -8.766371e+01   \n",
       "50%    3.189830e+05  4.190000e+01 -8.764414e+01  4.190022e+01 -8.764414e+01   \n",
       "75%    5.355470e+05  4.193000e+01 -8.762979e+01  4.193000e+01 -8.762979e+01   \n",
       "max    8.234870e+05  4.207000e+01 -8.752000e+01  4.211000e+01 -8.750000e+01   \n",
       "\n",
       "               Year         Month   ride_length  \n",
       "count  3.235887e+06  3.235887e+06  3.235887e+06  \n",
       "mean   2.021525e+03  7.268139e+00  1.260825e+01  \n",
       "std    4.993954e-01  2.465169e+00  8.815981e+00  \n",
       "min    2.021000e+03  1.000000e+00  1.666667e-02  \n",
       "25%    2.021000e+03  6.000000e+00  5.916667e+00  \n",
       "50%    2.022000e+03  7.000000e+00  1.023333e+01  \n",
       "75%    2.022000e+03  9.000000e+00  1.726667e+01  \n",
       "max    2.022000e+03  1.200000e+01  4.028333e+01  "
      ]
     },
     "execution_count": 5,
     "metadata": {},
     "output_type": "execute_result"
    }
   ],
   "source": [
    "bikes.describe()"
   ]
  },
  {
   "cell_type": "code",
   "execution_count": 6,
   "metadata": {},
   "outputs": [
    {
     "data": {
      "text/plain": [
       "(3235887, 18)"
      ]
     },
     "execution_count": 6,
     "metadata": {},
     "output_type": "execute_result"
    }
   ],
   "source": [
    "bikes.shape"
   ]
  },
  {
   "cell_type": "code",
   "execution_count": 7,
   "metadata": {},
   "outputs": [],
   "source": [
    "# import sweetviz as sv\n",
    "# #You could specify which variable in your dataset is the target for your model creation. We can specify it using the target_feat parameter.\n",
    "# my_report = sv.analyze(bikes)\n",
    "# my_report.show_html()"
   ]
  },
  {
   "cell_type": "code",
   "execution_count": 15,
   "metadata": {},
   "outputs": [],
   "source": [
    "# bikes['start_point'] = bikes.apply(lambda row: Point(latitude=row['start_lat'], longitude=row['start_lng']), axis=1)"
   ]
  },
  {
   "cell_type": "code",
   "execution_count": 18,
   "metadata": {},
   "outputs": [],
   "source": [
    "bikes = bikes[bikes['end_lat'].notna()]"
   ]
  },
  {
   "cell_type": "code",
   "execution_count": 19,
   "metadata": {},
   "outputs": [
    {
     "name": "stderr",
     "output_type": "stream",
     "text": [
      "/var/folders/sk/rfg_lvqj5r5c204vs5zftlgw0000gn/T/ipykernel_76801/3036927553.py:1: SettingWithCopyWarning: \n",
      "A value is trying to be set on a copy of a slice from a DataFrame.\n",
      "Try using .loc[row_indexer,col_indexer] = value instead\n",
      "\n",
      "See the caveats in the documentation: https://pandas.pydata.org/pandas-docs/stable/user_guide/indexing.html#returning-a-view-versus-a-copy\n",
      "  bikes['end_point'] = bikes.apply(lambda row: Point(latitude=row['end_lat'], longitude=row['end_lng']), axis=1)\n"
     ]
    }
   ],
   "source": [
    "# bikes['end_point'] = bikes.apply(lambda row: Point(latitude=row['end_lat'], longitude=row['end_lng']), axis=1)"
   ]
  },
  {
   "cell_type": "code",
   "execution_count": 20,
   "metadata": {},
   "outputs": [
    {
     "data": {
      "text/html": [
       "<div>\n",
       "<style scoped>\n",
       "    .dataframe tbody tr th:only-of-type {\n",
       "        vertical-align: middle;\n",
       "    }\n",
       "\n",
       "    .dataframe tbody tr th {\n",
       "        vertical-align: top;\n",
       "    }\n",
       "\n",
       "    .dataframe thead th {\n",
       "        text-align: right;\n",
       "    }\n",
       "</style>\n",
       "<table border=\"1\" class=\"dataframe\">\n",
       "  <thead>\n",
       "    <tr style=\"text-align: right;\">\n",
       "      <th></th>\n",
       "      <th>Unnamed: 0</th>\n",
       "      <th>ride_id</th>\n",
       "      <th>rideable_type</th>\n",
       "      <th>started_at</th>\n",
       "      <th>ended_at</th>\n",
       "      <th>start_station_name</th>\n",
       "      <th>start_station_id</th>\n",
       "      <th>end_station_name</th>\n",
       "      <th>end_station_id</th>\n",
       "      <th>start_lat</th>\n",
       "      <th>start_lng</th>\n",
       "      <th>end_lat</th>\n",
       "      <th>end_lng</th>\n",
       "      <th>member_casual</th>\n",
       "      <th>Year</th>\n",
       "      <th>Month</th>\n",
       "      <th>ride_length</th>\n",
       "      <th>Year-Month</th>\n",
       "      <th>start_point</th>\n",
       "      <th>end_point</th>\n",
       "    </tr>\n",
       "  </thead>\n",
       "  <tbody>\n",
       "    <tr>\n",
       "      <th>0</th>\n",
       "      <td>0</td>\n",
       "      <td>99103BB87CC6C1BB</td>\n",
       "      <td>electric_bike</td>\n",
       "      <td>2021-08-10 17:15:49</td>\n",
       "      <td>2021-08-10 17:22:44</td>\n",
       "      <td>NaN</td>\n",
       "      <td>NaN</td>\n",
       "      <td>NaN</td>\n",
       "      <td>NaN</td>\n",
       "      <td>41.77</td>\n",
       "      <td>-87.68</td>\n",
       "      <td>41.77</td>\n",
       "      <td>-87.68</td>\n",
       "      <td>member</td>\n",
       "      <td>2021</td>\n",
       "      <td>8</td>\n",
       "      <td>6.916667</td>\n",
       "      <td>2021-08-01 00:00:00</td>\n",
       "      <td>41 46m 12s N, 87 40m 48s W</td>\n",
       "      <td>41 46m 12s N, 87 40m 48s W</td>\n",
       "    </tr>\n",
       "    <tr>\n",
       "      <th>1</th>\n",
       "      <td>1</td>\n",
       "      <td>EAFCCCFB0A3FC5A1</td>\n",
       "      <td>electric_bike</td>\n",
       "      <td>2021-08-10 17:23:14</td>\n",
       "      <td>2021-08-10 17:39:24</td>\n",
       "      <td>NaN</td>\n",
       "      <td>NaN</td>\n",
       "      <td>NaN</td>\n",
       "      <td>NaN</td>\n",
       "      <td>41.77</td>\n",
       "      <td>-87.68</td>\n",
       "      <td>41.77</td>\n",
       "      <td>-87.63</td>\n",
       "      <td>member</td>\n",
       "      <td>2021</td>\n",
       "      <td>8</td>\n",
       "      <td>16.166667</td>\n",
       "      <td>2021-08-01 00:00:00</td>\n",
       "      <td>41 46m 12s N, 87 40m 48s W</td>\n",
       "      <td>41 46m 12s N, 87 37m 48s W</td>\n",
       "    </tr>\n",
       "    <tr>\n",
       "      <th>2</th>\n",
       "      <td>2</td>\n",
       "      <td>9EF4F46C57AD234D</td>\n",
       "      <td>electric_bike</td>\n",
       "      <td>2021-08-21 02:34:23</td>\n",
       "      <td>2021-08-21 02:50:36</td>\n",
       "      <td>NaN</td>\n",
       "      <td>NaN</td>\n",
       "      <td>NaN</td>\n",
       "      <td>NaN</td>\n",
       "      <td>41.95</td>\n",
       "      <td>-87.65</td>\n",
       "      <td>41.97</td>\n",
       "      <td>-87.66</td>\n",
       "      <td>member</td>\n",
       "      <td>2021</td>\n",
       "      <td>8</td>\n",
       "      <td>16.216667</td>\n",
       "      <td>2021-08-01 00:00:00</td>\n",
       "      <td>41 57m 1.02318e-11s N, 87 39m 2.04636e-11s W</td>\n",
       "      <td>41 58m 12s N, 87 39m 36s W</td>\n",
       "    </tr>\n",
       "    <tr>\n",
       "      <th>3</th>\n",
       "      <td>5</td>\n",
       "      <td>612F12C94A964F3E</td>\n",
       "      <td>electric_bike</td>\n",
       "      <td>2021-08-19 12:41:12</td>\n",
       "      <td>2021-08-19 12:47:47</td>\n",
       "      <td>NaN</td>\n",
       "      <td>NaN</td>\n",
       "      <td>NaN</td>\n",
       "      <td>NaN</td>\n",
       "      <td>41.81</td>\n",
       "      <td>-87.61</td>\n",
       "      <td>41.80</td>\n",
       "      <td>-87.60</td>\n",
       "      <td>member</td>\n",
       "      <td>2021</td>\n",
       "      <td>8</td>\n",
       "      <td>6.583333</td>\n",
       "      <td>2021-08-01 00:00:00</td>\n",
       "      <td>41 48m 36s N, 87 36m 36s W</td>\n",
       "      <td>41 47m 60s N, 87 35m 60s W</td>\n",
       "    </tr>\n",
       "    <tr>\n",
       "      <th>4</th>\n",
       "      <td>6</td>\n",
       "      <td>C7435946FDFFA9B7</td>\n",
       "      <td>electric_bike</td>\n",
       "      <td>2021-08-19 12:21:50</td>\n",
       "      <td>2021-08-19 12:37:31</td>\n",
       "      <td>NaN</td>\n",
       "      <td>NaN</td>\n",
       "      <td>NaN</td>\n",
       "      <td>NaN</td>\n",
       "      <td>41.77</td>\n",
       "      <td>-87.62</td>\n",
       "      <td>41.81</td>\n",
       "      <td>-87.61</td>\n",
       "      <td>member</td>\n",
       "      <td>2021</td>\n",
       "      <td>8</td>\n",
       "      <td>15.683333</td>\n",
       "      <td>2021-08-01 00:00:00</td>\n",
       "      <td>41 46m 12s N, 87 37m 12s W</td>\n",
       "      <td>41 48m 36s N, 87 36m 36s W</td>\n",
       "    </tr>\n",
       "  </tbody>\n",
       "</table>\n",
       "</div>"
      ],
      "text/plain": [
       "   Unnamed: 0           ride_id  rideable_type           started_at  \\\n",
       "0           0  99103BB87CC6C1BB  electric_bike  2021-08-10 17:15:49   \n",
       "1           1  EAFCCCFB0A3FC5A1  electric_bike  2021-08-10 17:23:14   \n",
       "2           2  9EF4F46C57AD234D  electric_bike  2021-08-21 02:34:23   \n",
       "3           5  612F12C94A964F3E  electric_bike  2021-08-19 12:41:12   \n",
       "4           6  C7435946FDFFA9B7  electric_bike  2021-08-19 12:21:50   \n",
       "\n",
       "              ended_at start_station_name start_station_id end_station_name  \\\n",
       "0  2021-08-10 17:22:44                NaN              NaN              NaN   \n",
       "1  2021-08-10 17:39:24                NaN              NaN              NaN   \n",
       "2  2021-08-21 02:50:36                NaN              NaN              NaN   \n",
       "3  2021-08-19 12:47:47                NaN              NaN              NaN   \n",
       "4  2021-08-19 12:37:31                NaN              NaN              NaN   \n",
       "\n",
       "  end_station_id  start_lat  start_lng  end_lat  end_lng member_casual  Year  \\\n",
       "0            NaN      41.77     -87.68    41.77   -87.68        member  2021   \n",
       "1            NaN      41.77     -87.68    41.77   -87.63        member  2021   \n",
       "2            NaN      41.95     -87.65    41.97   -87.66        member  2021   \n",
       "3            NaN      41.81     -87.61    41.80   -87.60        member  2021   \n",
       "4            NaN      41.77     -87.62    41.81   -87.61        member  2021   \n",
       "\n",
       "   Month  ride_length           Year-Month  \\\n",
       "0      8     6.916667  2021-08-01 00:00:00   \n",
       "1      8    16.166667  2021-08-01 00:00:00   \n",
       "2      8    16.216667  2021-08-01 00:00:00   \n",
       "3      8     6.583333  2021-08-01 00:00:00   \n",
       "4      8    15.683333  2021-08-01 00:00:00   \n",
       "\n",
       "                                    start_point                   end_point  \n",
       "0                    41 46m 12s N, 87 40m 48s W  41 46m 12s N, 87 40m 48s W  \n",
       "1                    41 46m 12s N, 87 40m 48s W  41 46m 12s N, 87 37m 48s W  \n",
       "2  41 57m 1.02318e-11s N, 87 39m 2.04636e-11s W  41 58m 12s N, 87 39m 36s W  \n",
       "3                    41 48m 36s N, 87 36m 36s W  41 47m 60s N, 87 35m 60s W  \n",
       "4                    41 46m 12s N, 87 37m 12s W  41 48m 36s N, 87 36m 36s W  "
      ]
     },
     "execution_count": 20,
     "metadata": {},
     "output_type": "execute_result"
    }
   ],
   "source": [
    "# bikes.head()"
   ]
  },
  {
   "cell_type": "code",
   "execution_count": 13,
   "metadata": {},
   "outputs": [
    {
     "ename": "ValueError",
     "evalue": "The truth value of a Series is ambiguous. Use a.empty, a.bool(), a.item(), a.any() or a.all().",
     "output_type": "error",
     "traceback": [
      "\u001b[0;31m---------------------------------------------------------------------------\u001b[0m",
      "\u001b[0;31mValueError\u001b[0m                                Traceback (most recent call last)",
      "\u001b[0;32m/var/folders/sk/rfg_lvqj5r5c204vs5zftlgw0000gn/T/ipykernel_76801/1574384552.py\u001b[0m in \u001b[0;36m<module>\u001b[0;34m\u001b[0m\n\u001b[0;32m----> 1\u001b[0;31m \u001b[0mbikes\u001b[0m\u001b[0;34m[\u001b[0m\u001b[0;34m'dist'\u001b[0m\u001b[0;34m]\u001b[0m \u001b[0;34m=\u001b[0m \u001b[0mGD\u001b[0m\u001b[0;34m(\u001b[0m\u001b[0;34m(\u001b[0m\u001b[0mbikes\u001b[0m\u001b[0;34m[\u001b[0m\u001b[0;34m'start_lng'\u001b[0m\u001b[0;34m]\u001b[0m\u001b[0;34m,\u001b[0m \u001b[0mbikes\u001b[0m\u001b[0;34m[\u001b[0m\u001b[0;34m'start_lat'\u001b[0m\u001b[0;34m]\u001b[0m\u001b[0;34m)\u001b[0m\u001b[0;34m,\u001b[0m \u001b[0;34m(\u001b[0m\u001b[0mbikes\u001b[0m\u001b[0;34m[\u001b[0m\u001b[0;34m'end_lng'\u001b[0m\u001b[0;34m]\u001b[0m\u001b[0;34m,\u001b[0m \u001b[0mbikes\u001b[0m\u001b[0;34m[\u001b[0m\u001b[0;34m'end_lat'\u001b[0m\u001b[0;34m]\u001b[0m\u001b[0;34m)\u001b[0m\u001b[0;34m)\u001b[0m\u001b[0;34m.\u001b[0m\u001b[0mkm\u001b[0m\u001b[0;34m\u001b[0m\u001b[0;34m\u001b[0m\u001b[0m\n\u001b[0m",
      "\u001b[0;32m~/opt/anaconda3/lib/python3.9/site-packages/geopy/distance.py\u001b[0m in \u001b[0;36m__init__\u001b[0;34m(self, *args, **kwargs)\u001b[0m\n\u001b[1;32m    520\u001b[0m         \u001b[0mself\u001b[0m\u001b[0;34m.\u001b[0m\u001b[0mset_ellipsoid\u001b[0m\u001b[0;34m(\u001b[0m\u001b[0mkwargs\u001b[0m\u001b[0;34m.\u001b[0m\u001b[0mpop\u001b[0m\u001b[0;34m(\u001b[0m\u001b[0;34m'ellipsoid'\u001b[0m\u001b[0;34m,\u001b[0m \u001b[0;34m'WGS-84'\u001b[0m\u001b[0;34m)\u001b[0m\u001b[0;34m)\u001b[0m\u001b[0;34m\u001b[0m\u001b[0;34m\u001b[0m\u001b[0m\n\u001b[1;32m    521\u001b[0m         \u001b[0mmajor\u001b[0m\u001b[0;34m,\u001b[0m \u001b[0mminor\u001b[0m\u001b[0;34m,\u001b[0m \u001b[0mf\u001b[0m \u001b[0;34m=\u001b[0m \u001b[0mself\u001b[0m\u001b[0;34m.\u001b[0m\u001b[0mELLIPSOID\u001b[0m\u001b[0;34m\u001b[0m\u001b[0;34m\u001b[0m\u001b[0m\n\u001b[0;32m--> 522\u001b[0;31m         \u001b[0msuper\u001b[0m\u001b[0;34m(\u001b[0m\u001b[0;34m)\u001b[0m\u001b[0;34m.\u001b[0m\u001b[0m__init__\u001b[0m\u001b[0;34m(\u001b[0m\u001b[0;34m*\u001b[0m\u001b[0margs\u001b[0m\u001b[0;34m,\u001b[0m \u001b[0;34m**\u001b[0m\u001b[0mkwargs\u001b[0m\u001b[0;34m)\u001b[0m\u001b[0;34m\u001b[0m\u001b[0;34m\u001b[0m\u001b[0m\n\u001b[0m\u001b[1;32m    523\u001b[0m \u001b[0;34m\u001b[0m\u001b[0m\n\u001b[1;32m    524\u001b[0m     \u001b[0;32mdef\u001b[0m \u001b[0mset_ellipsoid\u001b[0m\u001b[0;34m(\u001b[0m\u001b[0mself\u001b[0m\u001b[0;34m,\u001b[0m \u001b[0mellipsoid\u001b[0m\u001b[0;34m)\u001b[0m\u001b[0;34m:\u001b[0m\u001b[0;34m\u001b[0m\u001b[0;34m\u001b[0m\u001b[0m\n",
      "\u001b[0;32m~/opt/anaconda3/lib/python3.9/site-packages/geopy/distance.py\u001b[0m in \u001b[0;36m__init__\u001b[0;34m(self, *args, **kwargs)\u001b[0m\n\u001b[1;32m    274\u001b[0m         \u001b[0;32melif\u001b[0m \u001b[0mlen\u001b[0m\u001b[0;34m(\u001b[0m\u001b[0margs\u001b[0m\u001b[0;34m)\u001b[0m \u001b[0;34m>\u001b[0m \u001b[0;36m1\u001b[0m\u001b[0;34m:\u001b[0m\u001b[0;34m\u001b[0m\u001b[0;34m\u001b[0m\u001b[0m\n\u001b[1;32m    275\u001b[0m             \u001b[0;32mfor\u001b[0m \u001b[0ma\u001b[0m\u001b[0;34m,\u001b[0m \u001b[0mb\u001b[0m \u001b[0;32min\u001b[0m \u001b[0mutil\u001b[0m\u001b[0;34m.\u001b[0m\u001b[0mpairwise\u001b[0m\u001b[0;34m(\u001b[0m\u001b[0margs\u001b[0m\u001b[0;34m)\u001b[0m\u001b[0;34m:\u001b[0m\u001b[0;34m\u001b[0m\u001b[0;34m\u001b[0m\u001b[0m\n\u001b[0;32m--> 276\u001b[0;31m                 \u001b[0mkilometers\u001b[0m \u001b[0;34m+=\u001b[0m \u001b[0mself\u001b[0m\u001b[0;34m.\u001b[0m\u001b[0mmeasure\u001b[0m\u001b[0;34m(\u001b[0m\u001b[0ma\u001b[0m\u001b[0;34m,\u001b[0m \u001b[0mb\u001b[0m\u001b[0;34m)\u001b[0m\u001b[0;34m\u001b[0m\u001b[0;34m\u001b[0m\u001b[0m\n\u001b[0m\u001b[1;32m    277\u001b[0m \u001b[0;34m\u001b[0m\u001b[0m\n\u001b[1;32m    278\u001b[0m         \u001b[0mkilometers\u001b[0m \u001b[0;34m+=\u001b[0m \u001b[0munits\u001b[0m\u001b[0;34m.\u001b[0m\u001b[0mkilometers\u001b[0m\u001b[0;34m(\u001b[0m\u001b[0;34m**\u001b[0m\u001b[0mkwargs\u001b[0m\u001b[0;34m)\u001b[0m\u001b[0;34m\u001b[0m\u001b[0;34m\u001b[0m\u001b[0m\n",
      "\u001b[0;32m~/opt/anaconda3/lib/python3.9/site-packages/geopy/distance.py\u001b[0m in \u001b[0;36mmeasure\u001b[0;34m(self, a, b)\u001b[0m\n\u001b[1;32m    536\u001b[0m \u001b[0;34m\u001b[0m\u001b[0m\n\u001b[1;32m    537\u001b[0m     \u001b[0;32mdef\u001b[0m \u001b[0mmeasure\u001b[0m\u001b[0;34m(\u001b[0m\u001b[0mself\u001b[0m\u001b[0;34m,\u001b[0m \u001b[0ma\u001b[0m\u001b[0;34m,\u001b[0m \u001b[0mb\u001b[0m\u001b[0;34m)\u001b[0m\u001b[0;34m:\u001b[0m\u001b[0;34m\u001b[0m\u001b[0;34m\u001b[0m\u001b[0m\n\u001b[0;32m--> 538\u001b[0;31m         \u001b[0ma\u001b[0m\u001b[0;34m,\u001b[0m \u001b[0mb\u001b[0m \u001b[0;34m=\u001b[0m \u001b[0mPoint\u001b[0m\u001b[0;34m(\u001b[0m\u001b[0ma\u001b[0m\u001b[0;34m)\u001b[0m\u001b[0;34m,\u001b[0m \u001b[0mPoint\u001b[0m\u001b[0;34m(\u001b[0m\u001b[0mb\u001b[0m\u001b[0;34m)\u001b[0m\u001b[0;34m\u001b[0m\u001b[0;34m\u001b[0m\u001b[0m\n\u001b[0m\u001b[1;32m    539\u001b[0m         \u001b[0m_ensure_same_altitude\u001b[0m\u001b[0;34m(\u001b[0m\u001b[0ma\u001b[0m\u001b[0;34m,\u001b[0m \u001b[0mb\u001b[0m\u001b[0;34m)\u001b[0m\u001b[0;34m\u001b[0m\u001b[0;34m\u001b[0m\u001b[0m\n\u001b[1;32m    540\u001b[0m         \u001b[0mlat1\u001b[0m\u001b[0;34m,\u001b[0m \u001b[0mlon1\u001b[0m \u001b[0;34m=\u001b[0m \u001b[0ma\u001b[0m\u001b[0;34m.\u001b[0m\u001b[0mlatitude\u001b[0m\u001b[0;34m,\u001b[0m \u001b[0ma\u001b[0m\u001b[0;34m.\u001b[0m\u001b[0mlongitude\u001b[0m\u001b[0;34m\u001b[0m\u001b[0;34m\u001b[0m\u001b[0m\n",
      "\u001b[0;32m~/opt/anaconda3/lib/python3.9/site-packages/geopy/point.py\u001b[0m in \u001b[0;36m__new__\u001b[0;34m(cls, latitude, longitude, altitude)\u001b[0m\n\u001b[1;32m    173\u001b[0m                     )\n\u001b[1;32m    174\u001b[0m                 \u001b[0;32melse\u001b[0m\u001b[0;34m:\u001b[0m\u001b[0;34m\u001b[0m\u001b[0;34m\u001b[0m\u001b[0m\n\u001b[0;32m--> 175\u001b[0;31m                     \u001b[0;32mreturn\u001b[0m \u001b[0mcls\u001b[0m\u001b[0;34m.\u001b[0m\u001b[0mfrom_sequence\u001b[0m\u001b[0;34m(\u001b[0m\u001b[0mseq\u001b[0m\u001b[0;34m)\u001b[0m\u001b[0;34m\u001b[0m\u001b[0;34m\u001b[0m\u001b[0m\n\u001b[0m\u001b[1;32m    176\u001b[0m \u001b[0;34m\u001b[0m\u001b[0m\n\u001b[1;32m    177\u001b[0m         \u001b[0;32mif\u001b[0m \u001b[0msingle_arg\u001b[0m\u001b[0;34m:\u001b[0m\u001b[0;34m\u001b[0m\u001b[0;34m\u001b[0m\u001b[0m\n",
      "\u001b[0;32m~/opt/anaconda3/lib/python3.9/site-packages/geopy/point.py\u001b[0m in \u001b[0;36mfrom_sequence\u001b[0;34m(cls, seq)\u001b[0m\n\u001b[1;32m    470\u001b[0m             raise ValueError('When creating a Point from sequence, it '\n\u001b[1;32m    471\u001b[0m                              'must not have more than 3 items.')\n\u001b[0;32m--> 472\u001b[0;31m         \u001b[0;32mreturn\u001b[0m \u001b[0mcls\u001b[0m\u001b[0;34m(\u001b[0m\u001b[0;34m*\u001b[0m\u001b[0margs\u001b[0m\u001b[0;34m)\u001b[0m\u001b[0;34m\u001b[0m\u001b[0;34m\u001b[0m\u001b[0m\n\u001b[0m\u001b[1;32m    473\u001b[0m \u001b[0;34m\u001b[0m\u001b[0m\n\u001b[1;32m    474\u001b[0m     \u001b[0;34m@\u001b[0m\u001b[0mclassmethod\u001b[0m\u001b[0;34m\u001b[0m\u001b[0;34m\u001b[0m\u001b[0m\n",
      "\u001b[0;32m~/opt/anaconda3/lib/python3.9/site-packages/geopy/point.py\u001b[0m in \u001b[0;36m__new__\u001b[0;34m(cls, latitude, longitude, altitude)\u001b[0m\n\u001b[1;32m    186\u001b[0m \u001b[0;34m\u001b[0m\u001b[0m\n\u001b[1;32m    187\u001b[0m         \u001b[0mlatitude\u001b[0m\u001b[0;34m,\u001b[0m \u001b[0mlongitude\u001b[0m\u001b[0;34m,\u001b[0m \u001b[0maltitude\u001b[0m \u001b[0;34m=\u001b[0m\u001b[0;31m \u001b[0m\u001b[0;31m\\\u001b[0m\u001b[0;34m\u001b[0m\u001b[0;34m\u001b[0m\u001b[0m\n\u001b[0;32m--> 188\u001b[0;31m             \u001b[0m_normalize_coordinates\u001b[0m\u001b[0;34m(\u001b[0m\u001b[0mlatitude\u001b[0m\u001b[0;34m,\u001b[0m \u001b[0mlongitude\u001b[0m\u001b[0;34m,\u001b[0m \u001b[0maltitude\u001b[0m\u001b[0;34m)\u001b[0m\u001b[0;34m\u001b[0m\u001b[0;34m\u001b[0m\u001b[0m\n\u001b[0m\u001b[1;32m    189\u001b[0m \u001b[0;34m\u001b[0m\u001b[0m\n\u001b[1;32m    190\u001b[0m         \u001b[0mself\u001b[0m \u001b[0;34m=\u001b[0m \u001b[0msuper\u001b[0m\u001b[0;34m(\u001b[0m\u001b[0;34m)\u001b[0m\u001b[0;34m.\u001b[0m\u001b[0m__new__\u001b[0m\u001b[0;34m(\u001b[0m\u001b[0mcls\u001b[0m\u001b[0;34m)\u001b[0m\u001b[0;34m\u001b[0m\u001b[0;34m\u001b[0m\u001b[0m\n",
      "\u001b[0;32m~/opt/anaconda3/lib/python3.9/site-packages/geopy/point.py\u001b[0m in \u001b[0;36m_normalize_coordinates\u001b[0;34m(latitude, longitude, altitude)\u001b[0m\n\u001b[1;32m     55\u001b[0m \u001b[0;34m\u001b[0m\u001b[0m\n\u001b[1;32m     56\u001b[0m \u001b[0;32mdef\u001b[0m \u001b[0m_normalize_coordinates\u001b[0m\u001b[0;34m(\u001b[0m\u001b[0mlatitude\u001b[0m\u001b[0;34m,\u001b[0m \u001b[0mlongitude\u001b[0m\u001b[0;34m,\u001b[0m \u001b[0maltitude\u001b[0m\u001b[0;34m)\u001b[0m\u001b[0;34m:\u001b[0m\u001b[0;34m\u001b[0m\u001b[0;34m\u001b[0m\u001b[0m\n\u001b[0;32m---> 57\u001b[0;31m     \u001b[0mlatitude\u001b[0m \u001b[0;34m=\u001b[0m \u001b[0mfloat\u001b[0m\u001b[0;34m(\u001b[0m\u001b[0mlatitude\u001b[0m \u001b[0;32mor\u001b[0m \u001b[0;36m0.0\u001b[0m\u001b[0;34m)\u001b[0m\u001b[0;34m\u001b[0m\u001b[0;34m\u001b[0m\u001b[0m\n\u001b[0m\u001b[1;32m     58\u001b[0m     \u001b[0mlongitude\u001b[0m \u001b[0;34m=\u001b[0m \u001b[0mfloat\u001b[0m\u001b[0;34m(\u001b[0m\u001b[0mlongitude\u001b[0m \u001b[0;32mor\u001b[0m \u001b[0;36m0.0\u001b[0m\u001b[0;34m)\u001b[0m\u001b[0;34m\u001b[0m\u001b[0;34m\u001b[0m\u001b[0m\n\u001b[1;32m     59\u001b[0m     \u001b[0maltitude\u001b[0m \u001b[0;34m=\u001b[0m \u001b[0mfloat\u001b[0m\u001b[0;34m(\u001b[0m\u001b[0maltitude\u001b[0m \u001b[0;32mor\u001b[0m \u001b[0;36m0.0\u001b[0m\u001b[0;34m)\u001b[0m\u001b[0;34m\u001b[0m\u001b[0;34m\u001b[0m\u001b[0m\n",
      "\u001b[0;32m~/opt/anaconda3/lib/python3.9/site-packages/pandas/core/generic.py\u001b[0m in \u001b[0;36m__nonzero__\u001b[0;34m(self)\u001b[0m\n\u001b[1;32m   1535\u001b[0m     \u001b[0;34m@\u001b[0m\u001b[0mfinal\u001b[0m\u001b[0;34m\u001b[0m\u001b[0;34m\u001b[0m\u001b[0m\n\u001b[1;32m   1536\u001b[0m     \u001b[0;32mdef\u001b[0m \u001b[0m__nonzero__\u001b[0m\u001b[0;34m(\u001b[0m\u001b[0mself\u001b[0m\u001b[0;34m)\u001b[0m\u001b[0;34m:\u001b[0m\u001b[0;34m\u001b[0m\u001b[0;34m\u001b[0m\u001b[0m\n\u001b[0;32m-> 1537\u001b[0;31m         raise ValueError(\n\u001b[0m\u001b[1;32m   1538\u001b[0m             \u001b[0;34mf\"The truth value of a {type(self).__name__} is ambiguous. \"\u001b[0m\u001b[0;34m\u001b[0m\u001b[0;34m\u001b[0m\u001b[0m\n\u001b[1;32m   1539\u001b[0m             \u001b[0;34m\"Use a.empty, a.bool(), a.item(), a.any() or a.all().\"\u001b[0m\u001b[0;34m\u001b[0m\u001b[0;34m\u001b[0m\u001b[0m\n",
      "\u001b[0;31mValueError\u001b[0m: The truth value of a Series is ambiguous. Use a.empty, a.bool(), a.item(), a.any() or a.all()."
     ]
    }
   ],
   "source": [
    "# bikes['dist'] = GD((bikes['start_lng'], bikes['start_lat']), (bikes['end_lng'], bikes['end_lat'])).km"
   ]
  },
  {
   "cell_type": "code",
   "execution_count": 29,
   "metadata": {},
   "outputs": [],
   "source": [
    "def manhattan(s_long, s_lat, e_long, e_lat):\n",
    "    dif_long = abs(s_long - e_long)\n",
    "    dif_lat = abs(s_lat - e_lat)\n",
    "\n",
    "    dif_long_km = dif_long * abs(math.cos(s_lat)) * 111.320\n",
    "    dif_lat_km = dif_lat * 110.574\n",
    "\n",
    "    return dif_long_km + dif_lat_km"
   ]
  },
  {
   "cell_type": "code",
   "execution_count": 30,
   "metadata": {},
   "outputs": [
    {
     "name": "stderr",
     "output_type": "stream",
     "text": [
      "/var/folders/sk/rfg_lvqj5r5c204vs5zftlgw0000gn/T/ipykernel_76801/2539045171.py:1: SettingWithCopyWarning: \n",
      "A value is trying to be set on a copy of a slice from a DataFrame.\n",
      "Try using .loc[row_indexer,col_indexer] = value instead\n",
      "\n",
      "See the caveats in the documentation: https://pandas.pydata.org/pandas-docs/stable/user_guide/indexing.html#returning-a-view-versus-a-copy\n",
      "  bikes['manh_dist'] = bikes.apply(lambda row: manhattan(row['start_lng'], row['start_lat'], row['end_lng'], row['end_lat']), axis=1)\n"
     ]
    }
   ],
   "source": [
    "bikes['manh_dist'] = bikes.apply(lambda row: manhattan(row['start_lng'], row['start_lat'], row['end_lng'], row['end_lat']), axis=1)"
   ]
  },
  {
   "cell_type": "code",
   "execution_count": 31,
   "metadata": {},
   "outputs": [
    {
     "data": {
      "text/html": [
       "<div>\n",
       "<style scoped>\n",
       "    .dataframe tbody tr th:only-of-type {\n",
       "        vertical-align: middle;\n",
       "    }\n",
       "\n",
       "    .dataframe tbody tr th {\n",
       "        vertical-align: top;\n",
       "    }\n",
       "\n",
       "    .dataframe thead th {\n",
       "        text-align: right;\n",
       "    }\n",
       "</style>\n",
       "<table border=\"1\" class=\"dataframe\">\n",
       "  <thead>\n",
       "    <tr style=\"text-align: right;\">\n",
       "      <th></th>\n",
       "      <th>Unnamed: 0</th>\n",
       "      <th>ride_id</th>\n",
       "      <th>rideable_type</th>\n",
       "      <th>started_at</th>\n",
       "      <th>ended_at</th>\n",
       "      <th>start_station_name</th>\n",
       "      <th>start_station_id</th>\n",
       "      <th>end_station_name</th>\n",
       "      <th>end_station_id</th>\n",
       "      <th>start_lat</th>\n",
       "      <th>...</th>\n",
       "      <th>end_lat</th>\n",
       "      <th>end_lng</th>\n",
       "      <th>member_casual</th>\n",
       "      <th>Year</th>\n",
       "      <th>Month</th>\n",
       "      <th>ride_length</th>\n",
       "      <th>Year-Month</th>\n",
       "      <th>start_point</th>\n",
       "      <th>end_point</th>\n",
       "      <th>manh_dist</th>\n",
       "    </tr>\n",
       "  </thead>\n",
       "  <tbody>\n",
       "    <tr>\n",
       "      <th>0</th>\n",
       "      <td>0</td>\n",
       "      <td>99103BB87CC6C1BB</td>\n",
       "      <td>electric_bike</td>\n",
       "      <td>2021-08-10 17:15:49</td>\n",
       "      <td>2021-08-10 17:22:44</td>\n",
       "      <td>NaN</td>\n",
       "      <td>NaN</td>\n",
       "      <td>NaN</td>\n",
       "      <td>NaN</td>\n",
       "      <td>41.77</td>\n",
       "      <td>...</td>\n",
       "      <td>41.77</td>\n",
       "      <td>-87.68</td>\n",
       "      <td>member</td>\n",
       "      <td>2021</td>\n",
       "      <td>8</td>\n",
       "      <td>6.916667</td>\n",
       "      <td>2021-08-01 00:00:00</td>\n",
       "      <td>41 46m 12s N, 87 40m 48s W</td>\n",
       "      <td>41 46m 12s N, 87 40m 48s W</td>\n",
       "      <td>0.000000</td>\n",
       "    </tr>\n",
       "    <tr>\n",
       "      <th>1</th>\n",
       "      <td>1</td>\n",
       "      <td>EAFCCCFB0A3FC5A1</td>\n",
       "      <td>electric_bike</td>\n",
       "      <td>2021-08-10 17:23:14</td>\n",
       "      <td>2021-08-10 17:39:24</td>\n",
       "      <td>NaN</td>\n",
       "      <td>NaN</td>\n",
       "      <td>NaN</td>\n",
       "      <td>NaN</td>\n",
       "      <td>41.77</td>\n",
       "      <td>...</td>\n",
       "      <td>41.77</td>\n",
       "      <td>-87.63</td>\n",
       "      <td>member</td>\n",
       "      <td>2021</td>\n",
       "      <td>8</td>\n",
       "      <td>16.166667</td>\n",
       "      <td>2021-08-01 00:00:00</td>\n",
       "      <td>41 46m 12s N, 87 40m 48s W</td>\n",
       "      <td>41 46m 12s N, 87 37m 48s W</td>\n",
       "      <td>3.330686</td>\n",
       "    </tr>\n",
       "    <tr>\n",
       "      <th>2</th>\n",
       "      <td>2</td>\n",
       "      <td>9EF4F46C57AD234D</td>\n",
       "      <td>electric_bike</td>\n",
       "      <td>2021-08-21 02:34:23</td>\n",
       "      <td>2021-08-21 02:50:36</td>\n",
       "      <td>NaN</td>\n",
       "      <td>NaN</td>\n",
       "      <td>NaN</td>\n",
       "      <td>NaN</td>\n",
       "      <td>41.95</td>\n",
       "      <td>...</td>\n",
       "      <td>41.97</td>\n",
       "      <td>-87.66</td>\n",
       "      <td>member</td>\n",
       "      <td>2021</td>\n",
       "      <td>8</td>\n",
       "      <td>16.216667</td>\n",
       "      <td>2021-08-01 00:00:00</td>\n",
       "      <td>41 57m 1.02318e-11s N, 87 39m 2.04636e-11s W</td>\n",
       "      <td>41 58m 12s N, 87 39m 36s W</td>\n",
       "      <td>2.707180</td>\n",
       "    </tr>\n",
       "    <tr>\n",
       "      <th>3</th>\n",
       "      <td>5</td>\n",
       "      <td>612F12C94A964F3E</td>\n",
       "      <td>electric_bike</td>\n",
       "      <td>2021-08-19 12:41:12</td>\n",
       "      <td>2021-08-19 12:47:47</td>\n",
       "      <td>NaN</td>\n",
       "      <td>NaN</td>\n",
       "      <td>NaN</td>\n",
       "      <td>NaN</td>\n",
       "      <td>41.81</td>\n",
       "      <td>...</td>\n",
       "      <td>41.80</td>\n",
       "      <td>-87.60</td>\n",
       "      <td>member</td>\n",
       "      <td>2021</td>\n",
       "      <td>8</td>\n",
       "      <td>6.583333</td>\n",
       "      <td>2021-08-01 00:00:00</td>\n",
       "      <td>41 48m 36s N, 87 36m 36s W</td>\n",
       "      <td>41 47m 60s N, 87 35m 60s W</td>\n",
       "      <td>1.735678</td>\n",
       "    </tr>\n",
       "    <tr>\n",
       "      <th>4</th>\n",
       "      <td>6</td>\n",
       "      <td>C7435946FDFFA9B7</td>\n",
       "      <td>electric_bike</td>\n",
       "      <td>2021-08-19 12:21:50</td>\n",
       "      <td>2021-08-19 12:37:31</td>\n",
       "      <td>NaN</td>\n",
       "      <td>NaN</td>\n",
       "      <td>NaN</td>\n",
       "      <td>NaN</td>\n",
       "      <td>41.77</td>\n",
       "      <td>...</td>\n",
       "      <td>41.81</td>\n",
       "      <td>-87.61</td>\n",
       "      <td>member</td>\n",
       "      <td>2021</td>\n",
       "      <td>8</td>\n",
       "      <td>15.683333</td>\n",
       "      <td>2021-08-01 00:00:00</td>\n",
       "      <td>41 46m 12s N, 87 37m 12s W</td>\n",
       "      <td>41 48m 36s N, 87 36m 36s W</td>\n",
       "      <td>5.089097</td>\n",
       "    </tr>\n",
       "  </tbody>\n",
       "</table>\n",
       "<p>5 rows × 21 columns</p>\n",
       "</div>"
      ],
      "text/plain": [
       "   Unnamed: 0           ride_id  rideable_type           started_at  \\\n",
       "0           0  99103BB87CC6C1BB  electric_bike  2021-08-10 17:15:49   \n",
       "1           1  EAFCCCFB0A3FC5A1  electric_bike  2021-08-10 17:23:14   \n",
       "2           2  9EF4F46C57AD234D  electric_bike  2021-08-21 02:34:23   \n",
       "3           5  612F12C94A964F3E  electric_bike  2021-08-19 12:41:12   \n",
       "4           6  C7435946FDFFA9B7  electric_bike  2021-08-19 12:21:50   \n",
       "\n",
       "              ended_at start_station_name start_station_id end_station_name  \\\n",
       "0  2021-08-10 17:22:44                NaN              NaN              NaN   \n",
       "1  2021-08-10 17:39:24                NaN              NaN              NaN   \n",
       "2  2021-08-21 02:50:36                NaN              NaN              NaN   \n",
       "3  2021-08-19 12:47:47                NaN              NaN              NaN   \n",
       "4  2021-08-19 12:37:31                NaN              NaN              NaN   \n",
       "\n",
       "  end_station_id  start_lat  ...  end_lat  end_lng  member_casual  Year  \\\n",
       "0            NaN      41.77  ...    41.77   -87.68         member  2021   \n",
       "1            NaN      41.77  ...    41.77   -87.63         member  2021   \n",
       "2            NaN      41.95  ...    41.97   -87.66         member  2021   \n",
       "3            NaN      41.81  ...    41.80   -87.60         member  2021   \n",
       "4            NaN      41.77  ...    41.81   -87.61         member  2021   \n",
       "\n",
       "   Month  ride_length           Year-Month  \\\n",
       "0      8     6.916667  2021-08-01 00:00:00   \n",
       "1      8    16.166667  2021-08-01 00:00:00   \n",
       "2      8    16.216667  2021-08-01 00:00:00   \n",
       "3      8     6.583333  2021-08-01 00:00:00   \n",
       "4      8    15.683333  2021-08-01 00:00:00   \n",
       "\n",
       "                                    start_point                   end_point  \\\n",
       "0                    41 46m 12s N, 87 40m 48s W  41 46m 12s N, 87 40m 48s W   \n",
       "1                    41 46m 12s N, 87 40m 48s W  41 46m 12s N, 87 37m 48s W   \n",
       "2  41 57m 1.02318e-11s N, 87 39m 2.04636e-11s W  41 58m 12s N, 87 39m 36s W   \n",
       "3                    41 48m 36s N, 87 36m 36s W  41 47m 60s N, 87 35m 60s W   \n",
       "4                    41 46m 12s N, 87 37m 12s W  41 48m 36s N, 87 36m 36s W   \n",
       "\n",
       "  manh_dist  \n",
       "0  0.000000  \n",
       "1  3.330686  \n",
       "2  2.707180  \n",
       "3  1.735678  \n",
       "4  5.089097  \n",
       "\n",
       "[5 rows x 21 columns]"
      ]
     },
     "execution_count": 31,
     "metadata": {},
     "output_type": "execute_result"
    }
   ],
   "source": [
    "bikes.head()"
   ]
  },
  {
   "cell_type": "code",
   "execution_count": 32,
   "metadata": {},
   "outputs": [],
   "source": [
    "def haversine(s_long, s_lat, e_long, e_lat):\n",
    "    \"\"\"\n",
    "    Calculate the great circle distance in kilometers between two points \n",
    "    on the earth (specified in decimal degrees)\n",
    "    \"\"\"\n",
    "    # convert decimal degrees to radians \n",
    "    lon1, lat1, lon2, lat2 = map(math.radians, [s_long, s_lat, e_long, e_lat])\n",
    "\n",
    "    # haversine formula \n",
    "    dlon = lon2 - lon1 \n",
    "    dlat = lat2 - lat1 \n",
    "    a = math.sin(dlat/2)**2 + math.cos(lat1) * math.cos(lat2) * math.sin(dlon/2)**2\n",
    "    c = 2 * math.asin(math.sqrt(a)) \n",
    "    r = 6371 # Radius of earth in kilometers. Use 3956 for miles. Determines return value units.\n",
    "    return c * r"
   ]
  },
  {
   "cell_type": "code",
   "execution_count": 33,
   "metadata": {},
   "outputs": [
    {
     "name": "stderr",
     "output_type": "stream",
     "text": [
      "/var/folders/sk/rfg_lvqj5r5c204vs5zftlgw0000gn/T/ipykernel_76801/2817421626.py:1: SettingWithCopyWarning: \n",
      "A value is trying to be set on a copy of a slice from a DataFrame.\n",
      "Try using .loc[row_indexer,col_indexer] = value instead\n",
      "\n",
      "See the caveats in the documentation: https://pandas.pydata.org/pandas-docs/stable/user_guide/indexing.html#returning-a-view-versus-a-copy\n",
      "  bikes['haver_dist'] = bikes.apply(lambda row: haversine(row['start_lng'], row['start_lat'], row['end_lng'], row['end_lat']), axis=1)\n"
     ]
    }
   ],
   "source": [
    "bikes['haver_dist'] = bikes.apply(lambda row: haversine(row['start_lng'], row['start_lat'], row['end_lng'], row['end_lat']), axis=1)"
   ]
  },
  {
   "cell_type": "code",
   "execution_count": 34,
   "metadata": {},
   "outputs": [
    {
     "data": {
      "text/html": [
       "<div>\n",
       "<style scoped>\n",
       "    .dataframe tbody tr th:only-of-type {\n",
       "        vertical-align: middle;\n",
       "    }\n",
       "\n",
       "    .dataframe tbody tr th {\n",
       "        vertical-align: top;\n",
       "    }\n",
       "\n",
       "    .dataframe thead th {\n",
       "        text-align: right;\n",
       "    }\n",
       "</style>\n",
       "<table border=\"1\" class=\"dataframe\">\n",
       "  <thead>\n",
       "    <tr style=\"text-align: right;\">\n",
       "      <th></th>\n",
       "      <th>Unnamed: 0</th>\n",
       "      <th>ride_id</th>\n",
       "      <th>rideable_type</th>\n",
       "      <th>started_at</th>\n",
       "      <th>ended_at</th>\n",
       "      <th>start_station_name</th>\n",
       "      <th>start_station_id</th>\n",
       "      <th>end_station_name</th>\n",
       "      <th>end_station_id</th>\n",
       "      <th>start_lat</th>\n",
       "      <th>...</th>\n",
       "      <th>end_lng</th>\n",
       "      <th>member_casual</th>\n",
       "      <th>Year</th>\n",
       "      <th>Month</th>\n",
       "      <th>ride_length</th>\n",
       "      <th>Year-Month</th>\n",
       "      <th>start_point</th>\n",
       "      <th>end_point</th>\n",
       "      <th>manh_dist</th>\n",
       "      <th>haver_dist</th>\n",
       "    </tr>\n",
       "  </thead>\n",
       "  <tbody>\n",
       "    <tr>\n",
       "      <th>0</th>\n",
       "      <td>0</td>\n",
       "      <td>99103BB87CC6C1BB</td>\n",
       "      <td>electric_bike</td>\n",
       "      <td>2021-08-10 17:15:49</td>\n",
       "      <td>2021-08-10 17:22:44</td>\n",
       "      <td>NaN</td>\n",
       "      <td>NaN</td>\n",
       "      <td>NaN</td>\n",
       "      <td>NaN</td>\n",
       "      <td>41.77</td>\n",
       "      <td>...</td>\n",
       "      <td>-87.68</td>\n",
       "      <td>member</td>\n",
       "      <td>2021</td>\n",
       "      <td>8</td>\n",
       "      <td>6.916667</td>\n",
       "      <td>2021-08-01 00:00:00</td>\n",
       "      <td>41 46m 12s N, 87 40m 48s W</td>\n",
       "      <td>41 46m 12s N, 87 40m 48s W</td>\n",
       "      <td>0.000000</td>\n",
       "      <td>0.000000</td>\n",
       "    </tr>\n",
       "    <tr>\n",
       "      <th>1</th>\n",
       "      <td>1</td>\n",
       "      <td>EAFCCCFB0A3FC5A1</td>\n",
       "      <td>electric_bike</td>\n",
       "      <td>2021-08-10 17:23:14</td>\n",
       "      <td>2021-08-10 17:39:24</td>\n",
       "      <td>NaN</td>\n",
       "      <td>NaN</td>\n",
       "      <td>NaN</td>\n",
       "      <td>NaN</td>\n",
       "      <td>41.77</td>\n",
       "      <td>...</td>\n",
       "      <td>-87.63</td>\n",
       "      <td>member</td>\n",
       "      <td>2021</td>\n",
       "      <td>8</td>\n",
       "      <td>16.166667</td>\n",
       "      <td>2021-08-01 00:00:00</td>\n",
       "      <td>41 46m 12s N, 87 40m 48s W</td>\n",
       "      <td>41 46m 12s N, 87 37m 48s W</td>\n",
       "      <td>3.330686</td>\n",
       "      <td>4.146597</td>\n",
       "    </tr>\n",
       "    <tr>\n",
       "      <th>2</th>\n",
       "      <td>2</td>\n",
       "      <td>9EF4F46C57AD234D</td>\n",
       "      <td>electric_bike</td>\n",
       "      <td>2021-08-21 02:34:23</td>\n",
       "      <td>2021-08-21 02:50:36</td>\n",
       "      <td>NaN</td>\n",
       "      <td>NaN</td>\n",
       "      <td>NaN</td>\n",
       "      <td>NaN</td>\n",
       "      <td>41.95</td>\n",
       "      <td>...</td>\n",
       "      <td>-87.66</td>\n",
       "      <td>member</td>\n",
       "      <td>2021</td>\n",
       "      <td>8</td>\n",
       "      <td>16.216667</td>\n",
       "      <td>2021-08-01 00:00:00</td>\n",
       "      <td>41 57m 1.02318e-11s N, 87 39m 2.04636e-11s W</td>\n",
       "      <td>41 58m 12s N, 87 39m 36s W</td>\n",
       "      <td>2.707180</td>\n",
       "      <td>2.372640</td>\n",
       "    </tr>\n",
       "    <tr>\n",
       "      <th>3</th>\n",
       "      <td>5</td>\n",
       "      <td>612F12C94A964F3E</td>\n",
       "      <td>electric_bike</td>\n",
       "      <td>2021-08-19 12:41:12</td>\n",
       "      <td>2021-08-19 12:47:47</td>\n",
       "      <td>NaN</td>\n",
       "      <td>NaN</td>\n",
       "      <td>NaN</td>\n",
       "      <td>NaN</td>\n",
       "      <td>41.81</td>\n",
       "      <td>...</td>\n",
       "      <td>-87.60</td>\n",
       "      <td>member</td>\n",
       "      <td>2021</td>\n",
       "      <td>8</td>\n",
       "      <td>6.583333</td>\n",
       "      <td>2021-08-01 00:00:00</td>\n",
       "      <td>41 48m 36s N, 87 36m 36s W</td>\n",
       "      <td>41 47m 60s N, 87 35m 60s W</td>\n",
       "      <td>1.735678</td>\n",
       "      <td>1.386885</td>\n",
       "    </tr>\n",
       "    <tr>\n",
       "      <th>4</th>\n",
       "      <td>6</td>\n",
       "      <td>C7435946FDFFA9B7</td>\n",
       "      <td>electric_bike</td>\n",
       "      <td>2021-08-19 12:21:50</td>\n",
       "      <td>2021-08-19 12:37:31</td>\n",
       "      <td>NaN</td>\n",
       "      <td>NaN</td>\n",
       "      <td>NaN</td>\n",
       "      <td>NaN</td>\n",
       "      <td>41.77</td>\n",
       "      <td>...</td>\n",
       "      <td>-87.61</td>\n",
       "      <td>member</td>\n",
       "      <td>2021</td>\n",
       "      <td>8</td>\n",
       "      <td>15.683333</td>\n",
       "      <td>2021-08-01 00:00:00</td>\n",
       "      <td>41 46m 12s N, 87 37m 12s W</td>\n",
       "      <td>41 48m 36s N, 87 36m 36s W</td>\n",
       "      <td>5.089097</td>\n",
       "      <td>4.524405</td>\n",
       "    </tr>\n",
       "  </tbody>\n",
       "</table>\n",
       "<p>5 rows × 22 columns</p>\n",
       "</div>"
      ],
      "text/plain": [
       "   Unnamed: 0           ride_id  rideable_type           started_at  \\\n",
       "0           0  99103BB87CC6C1BB  electric_bike  2021-08-10 17:15:49   \n",
       "1           1  EAFCCCFB0A3FC5A1  electric_bike  2021-08-10 17:23:14   \n",
       "2           2  9EF4F46C57AD234D  electric_bike  2021-08-21 02:34:23   \n",
       "3           5  612F12C94A964F3E  electric_bike  2021-08-19 12:41:12   \n",
       "4           6  C7435946FDFFA9B7  electric_bike  2021-08-19 12:21:50   \n",
       "\n",
       "              ended_at start_station_name start_station_id end_station_name  \\\n",
       "0  2021-08-10 17:22:44                NaN              NaN              NaN   \n",
       "1  2021-08-10 17:39:24                NaN              NaN              NaN   \n",
       "2  2021-08-21 02:50:36                NaN              NaN              NaN   \n",
       "3  2021-08-19 12:47:47                NaN              NaN              NaN   \n",
       "4  2021-08-19 12:37:31                NaN              NaN              NaN   \n",
       "\n",
       "  end_station_id  start_lat  ...  end_lng  member_casual  Year Month  \\\n",
       "0            NaN      41.77  ...   -87.68         member  2021     8   \n",
       "1            NaN      41.77  ...   -87.63         member  2021     8   \n",
       "2            NaN      41.95  ...   -87.66         member  2021     8   \n",
       "3            NaN      41.81  ...   -87.60         member  2021     8   \n",
       "4            NaN      41.77  ...   -87.61         member  2021     8   \n",
       "\n",
       "   ride_length           Year-Month  \\\n",
       "0     6.916667  2021-08-01 00:00:00   \n",
       "1    16.166667  2021-08-01 00:00:00   \n",
       "2    16.216667  2021-08-01 00:00:00   \n",
       "3     6.583333  2021-08-01 00:00:00   \n",
       "4    15.683333  2021-08-01 00:00:00   \n",
       "\n",
       "                                    start_point                   end_point  \\\n",
       "0                    41 46m 12s N, 87 40m 48s W  41 46m 12s N, 87 40m 48s W   \n",
       "1                    41 46m 12s N, 87 40m 48s W  41 46m 12s N, 87 37m 48s W   \n",
       "2  41 57m 1.02318e-11s N, 87 39m 2.04636e-11s W  41 58m 12s N, 87 39m 36s W   \n",
       "3                    41 48m 36s N, 87 36m 36s W  41 47m 60s N, 87 35m 60s W   \n",
       "4                    41 46m 12s N, 87 37m 12s W  41 48m 36s N, 87 36m 36s W   \n",
       "\n",
       "  manh_dist haver_dist  \n",
       "0  0.000000   0.000000  \n",
       "1  3.330686   4.146597  \n",
       "2  2.707180   2.372640  \n",
       "3  1.735678   1.386885  \n",
       "4  5.089097   4.524405  \n",
       "\n",
       "[5 rows x 22 columns]"
      ]
     },
     "execution_count": 34,
     "metadata": {},
     "output_type": "execute_result"
    }
   ],
   "source": [
    "bikes.head()"
   ]
  },
  {
   "cell_type": "code",
   "execution_count": 51,
   "metadata": {},
   "outputs": [
    {
     "data": {
      "image/png": "[encoded data removed]",
      "text/plain": [
       "<Figure size 432x288 with 1 Axes>"
      ]
     },
     "metadata": {},
     "output_type": "display_data"
    },
    {
     "data": {
      "image/png": "[encoded data removed]",
      "text/plain": [
       "<Figure size 432x288 with 1 Axes>"
      ]
     },
     "metadata": {},
     "output_type": "display_data"
    }
   ],
   "source": [
    "mylabels = [\"Members\", \"Casual\"]\n",
    "colors = sns.color_palette('pastel')\n",
    "#create pie chart\n",
    "sns.set_theme(style='white')\n",
    "plt.pie(bikes['member_casual'].value_counts(), labels = mylabels, colors = colors, autopct='%.0f%%')\n",
    "plt.show()\n",
    "\n",
    "bikes['member_casual'].value_counts().plot.pie(labels=mylabels, explode=[0.2,0]);"
   ]
  },
  {
   "cell_type": "code",
   "execution_count": 99,
   "metadata": {},
   "outputs": [
    {
     "name": "stdout",
     "output_type": "stream",
     "text": [
      "[0.         0.52359878 1.04719755 1.57079633 2.0943951  2.61799388\n",
      " 3.14159265 3.66519143 4.1887902  4.71238898 5.23598776 5.75958653\n",
      " 0.        ]\n"
     ]
    }
   ],
   "source": [
    "monthly_bikes = bikes['Month'].value_counts()\n",
    "angles=np.linspace(0,2*np.pi,len(monthly_bikes), endpoint=False)\n",
    "angles=np.concatenate((angles,[angles[0]]))\n",
    "print(angles)\n",
    "monthly_bikes = pd.DataFrame(monthly_bikes.sort_index())\n",
    "monthly_bikes.reset_index(inplace=True)\n",
    "monthly_bikes = monthly_bikes.append({'Month':48289, 'index': 1}, ignore_index=True)"
   ]
  },
  {
   "cell_type": "code",
   "execution_count": 80,
   "metadata": {},
   "outputs": [
    {
     "data": {
      "image/png": "[encoded data removed]",
      "text/plain": [
       "<Figure size 432x432 with 1 Axes>"
      ]
     },
     "metadata": {},
     "output_type": "display_data"
    }
   ],
   "source": [
    "fig=plt.figure(figsize=(6,6))\n",
    "ax=fig.add_subplot(polar=True)\n",
    "ax.plot(angles,monthly_bikes['Month'])\n",
    "plt.show()"
   ]
  },
  {
   "cell_type": "code",
   "execution_count": 82,
   "metadata": {},
   "outputs": [
    {
     "data": {
      "image/png": "[encoded data removed]",
      "text/plain": [
       "<Figure size 432x432 with 1 Axes>"
      ]
     },
     "metadata": {},
     "output_type": "display_data"
    }
   ],
   "source": [
    "fig=plt.figure(figsize=(6,6))\n",
    "ax=fig.add_subplot(polar=True)\n",
    "#basic plot\n",
    "ax.plot(angles,monthly_bikes['Month'], 'o--', color='g', label='Rides per Month')\n",
    "#fill plot\n",
    "ax.fill(angles, monthly_bikes['Month'], alpha=0.25, color='g')\n",
    "#Add labels\n",
    "ax.set_thetagrids(angles * 180/np.pi, monthly_bikes['index'])\n",
    "ax.set_theta_offset(np.pi / 2)\n",
    "ax.set_theta_direction(-1)\n",
    "plt.grid(True)\n",
    "plt.tight_layout()\n",
    "plt.legend()\n",
    "plt.show()\n"
   ]
  },
  {
   "cell_type": "code",
   "execution_count": 109,
   "metadata": {},
   "outputs": [
    {
     "data": {
      "text/html": [
       "<div>\n",
       "<style scoped>\n",
       "    .dataframe tbody tr th:only-of-type {\n",
       "        vertical-align: middle;\n",
       "    }\n",
       "\n",
       "    .dataframe tbody tr th {\n",
       "        vertical-align: top;\n",
       "    }\n",
       "\n",
       "    .dataframe thead th {\n",
       "        text-align: right;\n",
       "    }\n",
       "</style>\n",
       "<table border=\"1\" class=\"dataframe\">\n",
       "  <thead>\n",
       "    <tr style=\"text-align: right;\">\n",
       "      <th></th>\n",
       "      <th>Month</th>\n",
       "      <th>Value</th>\n",
       "    </tr>\n",
       "  </thead>\n",
       "  <tbody>\n",
       "    <tr>\n",
       "      <th>0</th>\n",
       "      <td>1</td>\n",
       "      <td>48289</td>\n",
       "    </tr>\n",
       "    <tr>\n",
       "      <th>1</th>\n",
       "      <td>2</td>\n",
       "      <td>53909</td>\n",
       "    </tr>\n",
       "    <tr>\n",
       "      <th>2</th>\n",
       "      <td>3</td>\n",
       "      <td>137404</td>\n",
       "    </tr>\n",
       "    <tr>\n",
       "      <th>3</th>\n",
       "      <td>4</td>\n",
       "      <td>187180</td>\n",
       "    </tr>\n",
       "    <tr>\n",
       "      <th>4</th>\n",
       "      <td>5</td>\n",
       "      <td>344213</td>\n",
       "    </tr>\n",
       "    <tr>\n",
       "      <th>5</th>\n",
       "      <td>6</td>\n",
       "      <td>439700</td>\n",
       "    </tr>\n",
       "    <tr>\n",
       "      <th>6</th>\n",
       "      <td>7</td>\n",
       "      <td>486722</td>\n",
       "    </tr>\n",
       "    <tr>\n",
       "      <th>7</th>\n",
       "      <td>8</td>\n",
       "      <td>468613</td>\n",
       "    </tr>\n",
       "    <tr>\n",
       "      <th>8</th>\n",
       "      <td>9</td>\n",
       "      <td>429108</td>\n",
       "    </tr>\n",
       "    <tr>\n",
       "      <th>9</th>\n",
       "      <td>10</td>\n",
       "      <td>341627</td>\n",
       "    </tr>\n",
       "    <tr>\n",
       "      <th>10</th>\n",
       "      <td>11</td>\n",
       "      <td>180193</td>\n",
       "    </tr>\n",
       "    <tr>\n",
       "      <th>11</th>\n",
       "      <td>12</td>\n",
       "      <td>118711</td>\n",
       "    </tr>\n",
       "    <tr>\n",
       "      <th>12</th>\n",
       "      <td>1</td>\n",
       "      <td>48289</td>\n",
       "    </tr>\n",
       "  </tbody>\n",
       "</table>\n",
       "</div>"
      ],
      "text/plain": [
       "    Month   Value\n",
       "0       1   48289\n",
       "1       2   53909\n",
       "2       3  137404\n",
       "3       4  187180\n",
       "4       5  344213\n",
       "5       6  439700\n",
       "6       7  486722\n",
       "7       8  468613\n",
       "8       9  429108\n",
       "9      10  341627\n",
       "10     11  180193\n",
       "11     12  118711\n",
       "12      1   48289"
      ]
     },
     "execution_count": 109,
     "metadata": {},
     "output_type": "execute_result"
    }
   ],
   "source": [
    "monthly_bikes.columns = [\"Month\", 'Value']\n",
    "monthly_bikes"
   ]
  },
  {
   "cell_type": "code",
   "execution_count": 123,
   "metadata": {},
   "outputs": [
    {
     "data": {
      "application/vnd.plotly.v1+json": {
       "config": {
        "plotlyServerURL": "https://plot.ly"
       },
       "data": [
        {
         "fill": "toself",
         "hovertemplate": "Value=%{r}<br>theta=%{theta}<extra></extra>",
         "legendgroup": "",
         "line": {
          "color": "#636efa",
          "dash": "solid"
         },
         "marker": {
          "symbol": "circle"
         },
         "mode": "lines",
         "name": "",
         "r": [
          48289,
          53909,
          137404,
          187180,
          344213,
          439700,
          486722,
          468613,
          429108,
          341627,
          180193,
          118711,
          48289
         ],
         "showlegend": false,
         "subplot": "polar",
         "theta": [
          0,
          30,
          60,
          90,
          120,
          150,
          180,
          210,
          240,
          270,
          300,
          330,
          360
         ],
         "type": "scatterpolar"
        }
       ],
       "layout": {
        "legend": {
         "tracegroupgap": 0
        },
        "margin": {
         "t": 60
        },
        "polar": {
         "angularaxis": {
          "direction": "clockwise",
          "rotation": 90
         },
         "domain": {
          "x": [
           0,
           1
          ],
          "y": [
           0,
           1
          ]
         }
        },
        "template": {
         "data": {
          "bar": [
           {
            "error_x": {
             "color": "#2a3f5f"
            },
            "error_y": {
             "color": "#2a3f5f"
            },
            "marker": {
             "line": {
              "color": "#E5ECF6",
              "width": 0.5
             },
             "pattern": {
              "fillmode": "overlay",
              "size": 10,
              "solidity": 0.2
             }
            },
            "type": "bar"
           }
          ],
          "barpolar": [
           {
            "marker": {
             "line": {
              "color": "#E5ECF6",
              "width": 0.5
             },
             "pattern": {
              "fillmode": "overlay",
              "size": 10,
              "solidity": 0.2
             }
            },
            "type": "barpolar"
           }
          ],
          "carpet": [
           {
            "aaxis": {
             "endlinecolor": "#2a3f5f",
             "gridcolor": "white",
             "linecolor": "white",
             "minorgridcolor": "white",
             "startlinecolor": "#2a3f5f"
            },
            "baxis": {
             "endlinecolor": "#2a3f5f",
             "gridcolor": "white",
             "linecolor": "white",
             "minorgridcolor": "white",
             "startlinecolor": "#2a3f5f"
            },
            "type": "carpet"
           }
          ],
          "choropleth": [
           {
            "colorbar": {
             "outlinewidth": 0,
             "ticks": ""
            },
            "type": "choropleth"
           }
          ],
          "contour": [
           {
            "colorbar": {
             "outlinewidth": 0,
             "ticks": ""
            },
            "colorscale": [
             [
              0,
              "#0d0887"
             ],
             [
              0.1111111111111111,
              "#46039f"
             ],
             [
              0.2222222222222222,
              "#7201a8"
             ],
             [
              0.3333333333333333,
              "#9c179e"
             ],
             [
              0.4444444444444444,
              "#bd3786"
             ],
             [
              0.5555555555555556,
              "#d8576b"
             ],
             [
              0.6666666666666666,
              "#ed7953"
             ],
             [
              0.7777777777777778,
              "#fb9f3a"
             ],
             [
              0.8888888888888888,
              "#fdca26"
             ],
             [
              1,
              "#f0f921"
             ]
            ],
            "type": "contour"
           }
          ],
          "contourcarpet": [
           {
            "colorbar": {
             "outlinewidth": 0,
             "ticks": ""
            },
            "type": "contourcarpet"
           }
          ],
          "heatmap": [
           {
            "colorbar": {
             "outlinewidth": 0,
             "ticks": ""
            },
            "colorscale": [
             [
              0,
              "#0d0887"
             ],
             [
              0.1111111111111111,
              "#46039f"
             ],
             [
              0.2222222222222222,
              "#7201a8"
             ],
             [
              0.3333333333333333,
              "#9c179e"
             ],
             [
              0.4444444444444444,
              "#bd3786"
             ],
             [
              0.5555555555555556,
              "#d8576b"
             ],
             [
              0.6666666666666666,
              "#ed7953"
             ],
             [
              0.7777777777777778,
              "#fb9f3a"
             ],
             [
              0.8888888888888888,
              "#fdca26"
             ],
             [
              1,
              "#f0f921"
             ]
            ],
            "type": "heatmap"
           }
          ],
          "heatmapgl": [
           {
            "colorbar": {
             "outlinewidth": 0,
             "ticks": ""
            },
            "colorscale": [
             [
              0,
              "#0d0887"
             ],
             [
              0.1111111111111111,
              "#46039f"
             ],
             [
              0.2222222222222222,
              "#7201a8"
             ],
             [
              0.3333333333333333,
              "#9c179e"
             ],
             [
              0.4444444444444444,
              "#bd3786"
             ],
             [
              0.5555555555555556,
              "#d8576b"
             ],
             [
              0.6666666666666666,
              "#ed7953"
             ],
             [
              0.7777777777777778,
              "#fb9f3a"
             ],
             [
              0.8888888888888888,
              "#fdca26"
             ],
             [
              1,
              "#f0f921"
             ]
            ],
            "type": "heatmapgl"
           }
          ],
          "histogram": [
           {
            "marker": {
             "pattern": {
              "fillmode": "overlay",
              "size": 10,
              "solidity": 0.2
             }
            },
            "type": "histogram"
           }
          ],
          "histogram2d": [
           {
            "colorbar": {
             "outlinewidth": 0,
             "ticks": ""
            },
            "colorscale": [
             [
              0,
              "#0d0887"
             ],
             [
              0.1111111111111111,
              "#46039f"
             ],
             [
              0.2222222222222222,
              "#7201a8"
             ],
             [
              0.3333333333333333,
              "#9c179e"
             ],
             [
              0.4444444444444444,
              "#bd3786"
             ],
             [
              0.5555555555555556,
              "#d8576b"
             ],
             [
              0.6666666666666666,
              "#ed7953"
             ],
             [
              0.7777777777777778,
              "#fb9f3a"
             ],
             [
              0.8888888888888888,
              "#fdca26"
             ],
             [
              1,
              "#f0f921"
             ]
            ],
            "type": "histogram2d"
           }
          ],
          "histogram2dcontour": [
           {
            "colorbar": {
             "outlinewidth": 0,
             "ticks": ""
            },
            "colorscale": [
             [
              0,
              "#0d0887"
             ],
             [
              0.1111111111111111,
              "#46039f"
             ],
             [
              0.2222222222222222,
              "#7201a8"
             ],
             [
              0.3333333333333333,
              "#9c179e"
             ],
             [
              0.4444444444444444,
              "#bd3786"
             ],
             [
              0.5555555555555556,
              "#d8576b"
             ],
             [
              0.6666666666666666,
              "#ed7953"
             ],
             [
              0.7777777777777778,
              "#fb9f3a"
             ],
             [
              0.8888888888888888,
              "#fdca26"
             ],
             [
              1,
              "#f0f921"
             ]
            ],
            "type": "histogram2dcontour"
           }
          ],
          "mesh3d": [
           {
            "colorbar": {
             "outlinewidth": 0,
             "ticks": ""
            },
            "type": "mesh3d"
           }
          ],
          "parcoords": [
           {
            "line": {
             "colorbar": {
              "outlinewidth": 0,
              "ticks": ""
             }
            },
            "type": "parcoords"
           }
          ],
          "pie": [
           {
            "automargin": true,
            "type": "pie"
           }
          ],
          "scatter": [
           {
            "fillpattern": {
             "fillmode": "overlay",
             "size": 10,
             "solidity": 0.2
            },
            "type": "scatter"
           }
          ],
          "scatter3d": [
           {
            "line": {
             "colorbar": {
              "outlinewidth": 0,
              "ticks": ""
             }
            },
            "marker": {
             "colorbar": {
              "outlinewidth": 0,
              "ticks": ""
             }
            },
            "type": "scatter3d"
           }
          ],
          "scattercarpet": [
           {
            "marker": {
             "colorbar": {
              "outlinewidth": 0,
              "ticks": ""
             }
            },
            "type": "scattercarpet"
           }
          ],
          "scattergeo": [
           {
            "marker": {
             "colorbar": {
              "outlinewidth": 0,
              "ticks": ""
             }
            },
            "type": "scattergeo"
           }
          ],
          "scattergl": [
           {
            "marker": {
             "colorbar": {
              "outlinewidth": 0,
              "ticks": ""
             }
            },
            "type": "scattergl"
           }
          ],
          "scattermapbox": [
           {
            "marker": {
             "colorbar": {
              "outlinewidth": 0,
              "ticks": ""
             }
            },
            "type": "scattermapbox"
           }
          ],
          "scatterpolar": [
           {
            "marker": {
             "colorbar": {
              "outlinewidth": 0,
              "ticks": ""
             }
            },
            "type": "scatterpolar"
           }
          ],
          "scatterpolargl": [
           {
            "marker": {
             "colorbar": {
              "outlinewidth": 0,
              "ticks": ""
             }
            },
            "type": "scatterpolargl"
           }
          ],
          "scatterternary": [
           {
            "marker": {
             "colorbar": {
              "outlinewidth": 0,
              "ticks": ""
             }
            },
            "type": "scatterternary"
           }
          ],
          "surface": [
           {
            "colorbar": {
             "outlinewidth": 0,
             "ticks": ""
            },
            "colorscale": [
             [
              0,
              "#0d0887"
             ],
             [
              0.1111111111111111,
              "#46039f"
             ],
             [
              0.2222222222222222,
              "#7201a8"
             ],
             [
              0.3333333333333333,
              "#9c179e"
             ],
             [
              0.4444444444444444,
              "#bd3786"
             ],
             [
              0.5555555555555556,
              "#d8576b"
             ],
             [
              0.6666666666666666,
              "#ed7953"
             ],
             [
              0.7777777777777778,
              "#fb9f3a"
             ],
             [
              0.8888888888888888,
              "#fdca26"
             ],
             [
              1,
              "#f0f921"
             ]
            ],
            "type": "surface"
           }
          ],
          "table": [
           {
            "cells": {
             "fill": {
              "color": "#EBF0F8"
             },
             "line": {
              "color": "white"
             }
            },
            "header": {
             "fill": {
              "color": "#C8D4E3"
             },
             "line": {
              "color": "white"
             }
            },
            "type": "table"
           }
          ]
         },
         "layout": {
          "annotationdefaults": {
           "arrowcolor": "#2a3f5f",
           "arrowhead": 0,
           "arrowwidth": 1
          },
          "autotypenumbers": "strict",
          "coloraxis": {
           "colorbar": {
            "outlinewidth": 0,
            "ticks": ""
           }
          },
          "colorscale": {
           "diverging": [
            [
             0,
             "#8e0152"
            ],
            [
             0.1,
             "#c51b7d"
            ],
            [
             0.2,
             "#de77ae"
            ],
            [
             0.3,
             "#f1b6da"
            ],
            [
             0.4,
             "#fde0ef"
            ],
            [
             0.5,
             "#f7f7f7"
            ],
            [
             0.6,
             "#e6f5d0"
            ],
            [
             0.7,
             "#b8e186"
            ],
            [
             0.8,
             "#7fbc41"
            ],
            [
             0.9,
             "#4d9221"
            ],
            [
             1,
             "#276419"
            ]
           ],
           "sequential": [
            [
             0,
             "#0d0887"
            ],
            [
             0.1111111111111111,
             "#46039f"
            ],
            [
             0.2222222222222222,
             "#7201a8"
            ],
            [
             0.3333333333333333,
             "#9c179e"
            ],
            [
             0.4444444444444444,
             "#bd3786"
            ],
            [
             0.5555555555555556,
             "#d8576b"
            ],
            [
             0.6666666666666666,
             "#ed7953"
            ],
            [
             0.7777777777777778,
             "#fb9f3a"
            ],
            [
             0.8888888888888888,
             "#fdca26"
            ],
            [
             1,
             "#f0f921"
            ]
           ],
           "sequentialminus": [
            [
             0,
             "#0d0887"
            ],
            [
             0.1111111111111111,
             "#46039f"
            ],
            [
             0.2222222222222222,
             "#7201a8"
            ],
            [
             0.3333333333333333,
             "#9c179e"
            ],
            [
             0.4444444444444444,
             "#bd3786"
            ],
            [
             0.5555555555555556,
             "#d8576b"
            ],
            [
             0.6666666666666666,
             "#ed7953"
            ],
            [
             0.7777777777777778,
             "#fb9f3a"
            ],
            [
             0.8888888888888888,
             "#fdca26"
            ],
            [
             1,
             "#f0f921"
            ]
           ]
          },
          "colorway": [
           "#636efa",
           "#EF553B",
           "#00cc96",
           "#ab63fa",
           "#FFA15A",
           "#19d3f3",
           "#FF6692",
           "#B6E880",
           "#FF97FF",
           "#FECB52"
          ],
          "font": {
           "color": "#2a3f5f"
          },
          "geo": {
           "bgcolor": "white",
           "lakecolor": "white",
           "landcolor": "#E5ECF6",
           "showlakes": true,
           "showland": true,
           "subunitcolor": "white"
          },
          "hoverlabel": {
           "align": "left"
          },
          "hovermode": "closest",
          "mapbox": {
           "style": "light"
          },
          "paper_bgcolor": "white",
          "plot_bgcolor": "#E5ECF6",
          "polar": {
           "angularaxis": {
            "gridcolor": "white",
            "linecolor": "white",
            "ticks": ""
           },
           "bgcolor": "#E5ECF6",
           "radialaxis": {
            "gridcolor": "white",
            "linecolor": "white",
            "ticks": ""
           }
          },
          "scene": {
           "xaxis": {
            "backgroundcolor": "#E5ECF6",
            "gridcolor": "white",
            "gridwidth": 2,
            "linecolor": "white",
            "showbackground": true,
            "ticks": "",
            "zerolinecolor": "white"
           },
           "yaxis": {
            "backgroundcolor": "#E5ECF6",
            "gridcolor": "white",
            "gridwidth": 2,
            "linecolor": "white",
            "showbackground": true,
            "ticks": "",
            "zerolinecolor": "white"
           },
           "zaxis": {
            "backgroundcolor": "#E5ECF6",
            "gridcolor": "white",
            "gridwidth": 2,
            "linecolor": "white",
            "showbackground": true,
            "ticks": "",
            "zerolinecolor": "white"
           }
          },
          "shapedefaults": {
           "line": {
            "color": "#2a3f5f"
           }
          },
          "ternary": {
           "aaxis": {
            "gridcolor": "white",
            "linecolor": "white",
            "ticks": ""
           },
           "baxis": {
            "gridcolor": "white",
            "linecolor": "white",
            "ticks": ""
           },
           "bgcolor": "#E5ECF6",
           "caxis": {
            "gridcolor": "white",
            "linecolor": "white",
            "ticks": ""
           }
          },
          "title": {
           "x": 0.05
          },
          "xaxis": {
           "automargin": true,
           "gridcolor": "white",
           "linecolor": "white",
           "ticks": "",
           "title": {
            "standoff": 15
           },
           "zerolinecolor": "white",
           "zerolinewidth": 2
          },
          "yaxis": {
           "automargin": true,
           "gridcolor": "white",
           "linecolor": "white",
           "ticks": "",
           "title": {
            "standoff": 15
           },
           "zerolinecolor": "white",
           "zerolinewidth": 2
          }
         }
        }
       }
      }
     },
     "metadata": {},
     "output_type": "display_data"
    }
   ],
   "source": [
    "fig = px.line_polar(monthly_bikes, r='Value', theta=[30*i for i in range(13)], line_close=False)\n",
    "fig.update_traces(fill='toself')\n",
    "fig.show()"
   ]
  },
  {
   "cell_type": "code",
   "execution_count": 120,
   "metadata": {},
   "outputs": [
    {
     "data": {
      "application/vnd.plotly.v1+json": {
       "config": {
        "plotlyServerURL": "https://plot.ly"
       },
       "data": [
        {
         "marker": {
          "line": {
           "color": "black",
           "width": 2
          }
         },
         "opacity": 0.8,
         "r": [
          48289,
          53909,
          137404,
          187180,
          344213,
          439700,
          486722,
          468613,
          429108,
          341627,
          180193,
          118711,
          48289
         ],
         "theta": [
          90,
          120,
          150,
          180,
          210,
          240,
          270,
          300,
          330,
          360,
          390,
          420
         ],
         "type": "barpolar"
        }
       ],
       "layout": {
        "polar": {
         "angularaxis": {
          "showticklabels": false,
          "ticks": ""
         },
         "radialaxis": {
          "range": [
           0,
           500000
          ],
          "showticklabels": false,
          "ticks": ""
         }
        },
        "template": {}
       }
      }
     },
     "metadata": {},
     "output_type": "display_data"
    }
   ],
   "source": [
    "import plotly.graph_objects as go\n",
    "\n",
    "fig = go.Figure(go.Barpolar(\n",
    "    r=monthly_bikes['Value'],\n",
    "    theta=[30*i + 90 for i in range(12)],\n",
    "    marker_line_color=\"black\",\n",
    "    marker_line_width=2,\n",
    "    opacity=0.8\n",
    "))\n",
    "\n",
    "fig.update_layout(\n",
    "    template=None,\n",
    "    polar = dict(\n",
    "        radialaxis = dict(range=[0, 500000], showticklabels=False, ticks=''),\n",
    "        angularaxis = dict(showticklabels=False, ticks='')\n",
    "    )\n",
    ")\n",
    "\n",
    "fig.show()\n"
   ]
  },
  {
   "cell_type": "code",
   "execution_count": 144,
   "metadata": {},
   "outputs": [
    {
     "data": {
      "image/png": "[encoded data removed]",
      "text/plain": [
       "<Figure size 461.6x360 with 1 Axes>"
      ]
     },
     "metadata": {},
     "output_type": "display_data"
    }
   ],
   "source": [
    "sns.displot(bikes, x=\"ride_length\", hue=\"rideable_type\", kind='kde');"
   ]
  },
  {
   "cell_type": "code",
   "execution_count": 172,
   "metadata": {},
   "outputs": [
    {
     "data": {
      "image/png": "[encoded data removed]",
      "text/plain": [
       "<Figure size 432x288 with 1 Axes>"
      ]
     },
     "metadata": {},
     "output_type": "display_data"
    }
   ],
   "source": [
    "bikes.pivot(columns=\"rideable_type\", values=\"ride_length\").plot.hist(bins=20, alpha=0.4);"
   ]
  },
  {
   "cell_type": "code",
   "execution_count": 156,
   "metadata": {},
   "outputs": [
    {
     "data": {
      "image/png": "[encoded data removed]",
      "text/plain": [
       "<Figure size 461.6x360 with 1 Axes>"
      ]
     },
     "metadata": {},
     "output_type": "display_data"
    }
   ],
   "source": [
    "sns.displot(bikes, x=\"ride_length\", hue=\"rideable_type\");"
   ]
  },
  {
   "cell_type": "code",
   "execution_count": null,
   "metadata": {},
   "outputs": [],
   "source": []
  }
 ],
 "metadata": {
  "kernelspec": {
   "display_name": "Python 3.9.7 ('base')",
   "language": "python",
   "name": "python3"
  },
  "language_info": {
   "codemirror_mode": {
    "name": "ipython",
    "version": 3
   },
   "file_extension": ".py",
   "mimetype": "text/x-python",
   "name": "python",
   "nbconvert_exporter": "python",
   "pygments_lexer": "ipython3",
   "version": "3.9.7"
  },
  "orig_nbformat": 4,
  "vscode": {
   "interpreter": {
    "hash": "99c5b69d50627d74782850c6946c45f32f3e6468bb1e3868ad06512aa88f6ab5"
   }
  }
 },
 "nbformat": 4,
 "nbformat_minor": 2
}
